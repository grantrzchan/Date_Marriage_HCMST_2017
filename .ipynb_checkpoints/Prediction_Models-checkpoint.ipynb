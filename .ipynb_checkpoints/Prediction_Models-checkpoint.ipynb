{
 "cells": [
  {
   "cell_type": "code",
   "execution_count": 34,
   "metadata": {},
   "outputs": [],
   "source": [
    "import pandas as pd\n",
    "import numpy as np\n",
    "import seaborn as sns\n",
    "import matplotlib.pyplot as plt\n",
    "from sklearn.preprocessing import LabelEncoder, OneHotEncoder\n",
    "\n",
    "#import cleaned data\n",
    "data_set = pd.read_csv('clean_data.csv', header=0)\n",
    "\n",
    "# #import data schema\n",
    "# data_schema = pd.read_csv('./cleaned_HCMST_2017_schema.csv', header=0, index_col=0)\n",
    "# data_set"
   ]
  },
  {
   "cell_type": "code",
   "execution_count": 35,
   "metadata": {},
   "outputs": [],
   "source": [
    "#definite functions to convert the data set into the format used for EDA\n",
    "def create_met_places(df):\n",
    "    places = df.columns[list(df.columns).index('school')::]\n",
    "    p_cols = df[places].copy()\n",
    "    p_cols = p_cols.replace({'yes': 1, 'no': 0})\n",
    "    #use idxmax to identify 'yes' i.e. 1\n",
    "    p_cols = p_cols.idxmax(axis=1).copy()\n",
    "    df.insert(loc=df.shape[1], column='places_met', value=pd.Series(p_cols))\n",
    "    return df\n",
    "\n",
    "def fix_household_inc(df):\n",
    "    hh_labels = df['Household_Income'].unique()\n",
    "    #leave out the first (<$5,000) and last elements ($250,000), create a dictionary for the middle elements\n",
    "    inc_dict = {}\n",
    "    for l in hh_labels:\n",
    "        if ' to ' in l:\n",
    "            k = int(l[0:l.find(' to ',0)].replace('$','').replace(',',''))\n",
    "            inc_dict[l] = k\n",
    "    inc_dict_val = sorted(list(inc_dict.values()))\n",
    "    for l in hh_labels:\n",
    "        if ' to ' in l:\n",
    "            inc_dict[l] = inc_dict_val.index(inc_dict[l]) + 1\n",
    "    inc_dict['Less than $5,000'] = 0\n",
    "    inc_dict['$250,000 or more'] = len(hh_labels) - 1\n",
    "    df = df.replace({'Household_Income': inc_dict})\n",
    "    #create feature 'Household_Income2'\n",
    "    hh_inc2 = df['Household_Income'].copy()\n",
    "    hh_inc2 = hh_inc2.apply(lambda x: x**2)\n",
    "    df.insert(loc=6, column='Household_Income2', value=pd.Series(hh_inc2))\n",
    "    return df\n",
    "\n",
    "def fix_rel_attendance(df):\n",
    "    #Recategorized \"refused\"\n",
    "    rel_dict = {'More than once a week': 0, 'Once a week': 1, 'Once or twice a month': 2, \n",
    "           'A few times a year': 3, 'Once a year or less': 4, 'Never': 5}\n",
    "    df = df.replace({'Religious_Attendance': rel_dict})\n",
    "    df = df.replace({'Religious_Attendance': {'Refused': 'A few times a year'}})\n",
    "    return df\n",
    "\n",
    "\n",
    "def fix_politics(df):\n",
    "    #Recategorize \"refused\"\n",
    "    pol_dict = {'Strong Republican': 0, 'Leans Republican': 1, 'Not Strong Republican': 2,\n",
    "           'Undecided/Independent/Other': 3, 'Not Strong Democrat': 4, 'Leans Democrat': 5,\n",
    "            'Strong Democrat': 6}\n",
    "    df = df.replace({'Politics': pol_dict})\n",
    "    df = df.replace({'P_Politics': pol_dict})\n",
    "    df = df.replace({'P_Politics': {'Refused': 3}})\n",
    "    pol_col = abs(df.Politics - df.P_Politics)\n",
    "    df.insert(loc=8, column='Pol_Diff', value=pd.Series(pol_col))\n",
    "    return df\n",
    "    \n",
    "def fix_education(df):\n",
    "    p_edu_list = list(df['P_Education'].unique())\n",
    "    p_edu_dict = {x: 'Less than high school' for x in p_edu_list[p_edu_list.index('12th grade no diploma'):]}\n",
    "    p_edu_dict[p_edu_list[0]] = 'High school'\n",
    "    for i in [2, 4]:\n",
    "        p_edu_dict[p_edu_list[i]] = 'Some college'\n",
    "    for i in [1, 3, 5]:\n",
    "        p_edu_dict[p_edu_list[i]] = 'Bachelor\\'s degree or higher'\n",
    "    df = df.replace({'P_Education': p_edu_dict})\n",
    "    #convert educational categories to ordinal form, create a new feature called 'Edu_Diff'\n",
    "    edu_cat_dict = {'Bachelor\\'s degree or higher': 0, 'Some college': 1, 'High school': 2, 'Less than high school': 3}\n",
    "    df = df.replace({'Education': edu_cat_dict})\n",
    "    df = df.replace({'P_Education': edu_cat_dict})\n",
    "    edu_col = abs(df.Education - df.P_Education)\n",
    "    df.insert(loc=8, column='Edu_Diff', value=pd.Series(edu_col))\n",
    "    return df\n",
    "\n",
    "def fix_age(df):\n",
    "    #eliminate any NaN elements due to the absolute subtraction of 'Age' from 'P_Age'\n",
    "    df = df[df['Age_Diff'].notna()]\n",
    "    return df"
   ]
  },
  {
   "cell_type": "code",
   "execution_count": 36,
   "metadata": {},
   "outputs": [],
   "source": [
    "#master function to transform data set with auxiliary functions\n",
    "def data_preprocess(df):\n",
    "    aux_f = [create_met_places, fix_household_inc, fix_rel_attendance, fix_politics, fix_education, fix_age]\n",
    "    data = df.copy()\n",
    "    for f in aux_f:\n",
    "        data = f(data)\n",
    "    return data"
   ]
  },
  {
   "cell_type": "code",
   "execution_count": 37,
   "metadata": {
    "scrolled": true
   },
   "outputs": [],
   "source": [
    "data_set2 = data_preprocess(data_set)"
   ]
  },
  {
   "cell_type": "code",
   "execution_count": null,
   "metadata": {},
   "outputs": [],
   "source": [
    "#split data set into in sample and out-of-sample (OOS) data,\n",
    "#so that a machine learning model can be built, and we can use the model to classify OOS data\n",
    "oos_size = int(0.10*data_set.shape[0])\n",
    "ins_size = data_set.shape[0] - oos_size\n",
    "data = data_set[:ins_size]\n",
    "oos_data = data_set[ins_size:]"
   ]
  }
 ],
 "metadata": {
  "kernelspec": {
   "display_name": "Python 3",
   "language": "python",
   "name": "python3"
  },
  "language_info": {
   "codemirror_mode": {
    "name": "ipython",
    "version": 3
   },
   "file_extension": ".py",
   "mimetype": "text/x-python",
   "name": "python",
   "nbconvert_exporter": "python",
   "pygments_lexer": "ipython3",
   "version": "3.7.4"
  }
 },
 "nbformat": 4,
 "nbformat_minor": 4
}
